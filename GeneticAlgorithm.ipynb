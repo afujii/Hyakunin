{
  "nbformat": 4,
  "nbformat_minor": 0,
  "metadata": {
    "colab": {
      "provenance": [],
      "authorship_tag": "ABX9TyNyllIaIYZdMA6ylTI565MW",
      "include_colab_link": true
    },
    "kernelspec": {
      "name": "python3",
      "display_name": "Python 3"
    },
    "language_info": {
      "name": "python"
    }
  },
  "cells": [
    {
      "cell_type": "markdown",
      "metadata": {
        "id": "view-in-github",
        "colab_type": "text"
      },
      "source": [
        "<a href=\"https://colab.research.google.com/github/afujii/Hyakunin/blob/main/GeneticAlgorithm.ipynb\" target=\"_parent\"><img src=\"https://colab.research.google.com/assets/colab-badge.svg\" alt=\"Open In Colab\"/></a>"
      ]
    },
    {
      "cell_type": "markdown",
      "source": [
        "オライリー出版の「集合知プログラミング」第11章の「遺伝的プログラミング」を以下に示す。遺伝アルゴルリズムを処理プログラムの構造に反映させたものといえる。"
      ],
      "metadata": {
        "id": "s7ok0BOXWMLR"
      }
    },
    {
      "cell_type": "code",
      "execution_count": null,
      "metadata": {
        "id": "57F2CNKFVeGv"
      },
      "outputs": [],
      "source": [
        "from random import random,randint,choice\n",
        "from copy import deepcopy\n",
        "from math import log"
      ]
    },
    {
      "cell_type": "markdown",
      "source": [
        "プログラムは木構造で構成され、各ノードが処理単位となる。関数は名前で管理される。Pythonでは、関数名を渡すことで処理が可能である。以下で、lambda 関数によって処理を定義し、その名前の関数をノードに置いた木を構成することで処理全体を「木」で表す。その出力と目的関数の誤差を最小化するように、枝を「変異」「交叉」させる。"
      ],
      "metadata": {
        "id": "rirNGoqEW7rJ"
      }
    },
    {
      "cell_type": "code",
      "source": [
        "class node:\n",
        "  def __init__(self,fw,children):\n",
        "    self.function=fw.function\n",
        "    self.name=fw.name\n",
        "    self.children=children\n",
        "\n",
        "  def evaluate(self,inp):\n",
        "    results=[n.evaluate(inp) for n in self.children]\n",
        "    return self.function(results)\n",
        "\n",
        "  def display(self,indent=1):\n",
        "    print ((' '*indent)+self.name)\n",
        "    for c in self.children:\n",
        "      c.display(indent+1)\n",
        "\n",
        "class paramnode:\n",
        "  def __init__(self,idx):\n",
        "    self.idx=idx\n",
        "  def evaluate(self,inp):\n",
        "    return inp[self.idx]\n",
        "  def display(self,indent=0):\n",
        "    print( ' '*indent + str(self.idx))\n",
        "\n",
        "class constnode:\n",
        "  def __init__(self,v):\n",
        "    self.v=v\n",
        "  def evaluate(self,inp):\n",
        "    return self.v\n",
        "  def display(self,indent=0):\n",
        "    print( ' '*indent + str(self.v ) )\n"
      ],
      "metadata": {
        "id": "Axs3xgAuV8Yi"
      },
      "execution_count": null,
      "outputs": []
    },
    {
      "cell_type": "markdown",
      "source": [
        "ノードの「display」は、インデントによって木の深さを表現して表示する機能を定義している。\n",
        "\n",
        "まず、例題として、加減乗の演算を行う。乱数により任意の構造の木を生成する機能を定義する。以下のfwrapper によって、関数のラッパー(wrapper)を定義する。また、大商比較の関数、ＩF条件文を表す関数を用意する。"
      ],
      "metadata": {
        "id": "4DxrG9VNYCmC"
      }
    },
    {
      "cell_type": "code",
      "source": [
        "class fwrapper:\n",
        "  def __init__(self,function,childcount,name):\n",
        "    self.function=function\n",
        "    self.childcount=childcount\n",
        "    self.name=name"
      ],
      "metadata": {
        "id": "maecLVytZfix"
      },
      "execution_count": null,
      "outputs": []
    },
    {
      "cell_type": "code",
      "source": [
        "addw=fwrapper(lambda l:l[0]+l[1],2,'add')\n",
        "subw=fwrapper(lambda l:l[0]-l[1],2,'subtract')\n",
        "mulw=fwrapper(lambda l:l[0]*l[1],2,'multiply')\n",
        "\n",
        "def iffunc(l):\n",
        "  if l[0]>0: return l[1]\n",
        "  else: return l[2]\n",
        "ifw=fwrapper(iffunc,3,'if')\n",
        "\n",
        "def isgreater(l):\n",
        "  if l[0]>l[1]: return 1\n",
        "  else: return 0"
      ],
      "metadata": {
        "id": "C8ZcklY-ZMLT"
      },
      "execution_count": null,
      "outputs": []
    },
    {
      "cell_type": "markdown",
      "source": [],
      "metadata": {
        "id": "bKTXmU9WZ_fC"
      }
    },
    {
      "cell_type": "code",
      "source": [
        "gtw=fwrapper(isgreater,2,'isgreater')\n",
        "flist=[addw,mulw,ifw,gtw,subw]"
      ],
      "metadata": {
        "id": "kgJVYCZYaAIw"
      },
      "execution_count": null,
      "outputs": []
    },
    {
      "cell_type": "code",
      "source": [
        "def exampletree():\n",
        "  return node(ifw,[\n",
        "                  node(gtw,[paramnode(0),constnode(3)]),\n",
        "                  node(addw,[paramnode(1),constnode(5)]),\n",
        "                  node(subw,[paramnode(1),constnode(2)]),\n",
        "                  ]\n",
        "              )"
      ],
      "metadata": {
        "id": "rWPFwW4lYwZR"
      },
      "execution_count": null,
      "outputs": []
    },
    {
      "cell_type": "markdown",
      "source": [
        "例題として生成された関数の構造を見てみよう。"
      ],
      "metadata": {
        "id": "_znpcacxagrL"
      }
    },
    {
      "cell_type": "code",
      "source": [
        "sample = exampletree()\n",
        "sample.display()"
      ],
      "metadata": {
        "colab": {
          "base_uri": "https://localhost:8080/"
        },
        "id": "9WHJops9anu4",
        "outputId": "0de741b3-0a3a-48a1-fc85-b29b1afc628f"
      },
      "execution_count": null,
      "outputs": [
        {
          "output_type": "stream",
          "name": "stdout",
          "text": [
            " if\n",
            "  isgreater\n",
            "   0\n",
            "   3\n",
            "  add\n",
            "   1\n",
            "   5\n",
            "  subtract\n",
            "   1\n",
            "   2\n"
          ]
        }
      ]
    },
    {
      "cell_type": "markdown",
      "source": [
        "次に、突然変異、交叉、を導入して関数に対して遺伝アルゴリズムの処理を適用させるための準備を行う。"
      ],
      "metadata": {
        "id": "WcAExHRrfULM"
      }
    },
    {
      "cell_type": "code",
      "source": [
        "def makerandomtree(pc,maxdepth=4,fpr=0.5,ppr=0.6):\n",
        "  if random()<fpr and maxdepth>0:\n",
        "    f=choice(flist)\n",
        "    children=[makerandomtree(pc,maxdepth-1,fpr,ppr)\n",
        "              for i in range(f.childcount)]\n",
        "    return node(f,children)\n",
        "  elif random()<ppr:\n",
        "    return paramnode(randint(0,pc-1))\n",
        "  else:\n",
        "    return constnode(randint(0,10))\n",
        "\n",
        "def mutate(t,pc,probchange=0.1):\n",
        "  if random()<probchange:\n",
        "    return makerandomtree(pc)\n",
        "  else:\n",
        "    result=deepcopy(t)\n",
        "    if hasattr(t,\"children\"):\n",
        "      result.children=[mutate(c,pc,probchange) for c in t.children]\n",
        "    return result\n",
        "\n",
        "def crossover(t1,t2,probswap=0.7,top=1):\n",
        "  if random()<probswap and not top:\n",
        "    return deepcopy(t2)\n",
        "  else:\n",
        "    result=deepcopy(t1)\n",
        "    if hasattr(t1,'children') and hasattr(t2,'children'):\n",
        "      result.children=[crossover(c,choice(t2.children),probswap,0)\n",
        "                       for c in t1.children]\n",
        "    return result\n",
        "\n",
        "def getrankfunction(dataset):\n",
        "  def rankfunction(population):\n",
        "    scores=[(scorefunction(t,dataset),t) for t in population]\n",
        "    scores = sorted(scores, key = lambda x: x[0])\n",
        "    # オリジナルのコードでは、sort()　を使っており、\n",
        "    # python3 系では、関数渡しでは、scores の中身が変化しない。\n",
        "    # 上記のような　scores　の再定義が必要であった。\n",
        "    return scores\n",
        "  return rankfunction"
      ],
      "metadata": {
        "id": "INypnGC8epUU"
      },
      "execution_count": null,
      "outputs": []
    },
    {
      "cell_type": "markdown",
      "source": [
        "makerandomtree で初期の木を作る。\n",
        "世代の進化を行う関数を導入する。生成された関数を名前渡しし、その関数の木構造を変形することによって進化させる。"
      ],
      "metadata": {
        "id": "lD63eEmXfu1i"
      }
    },
    {
      "cell_type": "code",
      "source": [
        "def evolve(pc,popsize,rankfunction,maxgen=500,\n",
        "           mutationrate=0.1,breedingrate=0.4,pexp=0.7,pnew=0.05):\n",
        "  # Returns a random number, tending towards lower numbers. The lower pexp\n",
        "  # is, more lower numbers you will get\n",
        "  def selectindex():\n",
        "    return int(log(random())/log(pexp))\n",
        "\n",
        "  # Create a random initial population\n",
        "  population=[makerandomtree(pc) for i in range(popsize)]\n",
        "  for i in range(maxgen):\n",
        "    scores=rankfunction(population)\n",
        "    print( scores[0][0] )\n",
        "    if scores[0][0]==0: break\n",
        "\n",
        "    # The two best always make it\n",
        "    newpop=[scores[0][1],scores[1][1]]\n",
        "\n",
        "    # Build the next generation\n",
        "    while len(newpop)<popsize:\n",
        "      if random()>pnew:\n",
        "        newpop.append(mutate(\n",
        "                      crossover(scores[selectindex()][1],\n",
        "                                 scores[selectindex()][1],\n",
        "                                probswap=breedingrate),\n",
        "                        pc,probchange=mutationrate))\n",
        "      else:\n",
        "      # Add a random node to mix things up\n",
        "        newpop.append(makerandomtree(pc))\n",
        "\n",
        "    population=newpop\n",
        "  scores[0][1].display()\n",
        "  return scores[0][1]\n"
      ],
      "metadata": {
        "id": "_7jTgHiMfuPc"
      },
      "execution_count": null,
      "outputs": []
    },
    {
      "cell_type": "markdown",
      "source": [
        "「進化」を評価するには、評価関数が必要である。ここでは、例題として隠された正解の関数が、ここでは、例題として隠された正解の関数が、$x^2+2y+3x+5$とする。また、精製されたプログラムをテストするデータセットを生成する関数を用意する。\n",
        "buildhiddenset により、任意のx,y の組に　正解の値を対応させたものを　200個生成する。これを利用して、プログラムの途中で生成される木の評価を行う。"
      ],
      "metadata": {
        "id": "xgfwXW7HkoMD"
      }
    },
    {
      "cell_type": "code",
      "source": [
        "def hiddenfunction(x,y):\n",
        "    return x**2+2*y+3*x+5\n",
        "\n",
        "def buildhiddenset():\n",
        "  rows=[]\n",
        "  for i in range(200):\n",
        "    x=randint(0,40)\n",
        "    y=randint(0,40)\n",
        "    rows.append([x,y,hiddenfunction(x,y)])\n",
        "  return rows\n",
        "\n",
        "def scorefunction(tree,s):\n",
        "  dif=0\n",
        "  for data in s:\n",
        "    v=tree.evaluate([data[0],data[1]])\n",
        "    dif+=abs(v-data[2])\n",
        "  return dif"
      ],
      "metadata": {
        "id": "jS1wDeMnkkKM"
      },
      "execution_count": null,
      "outputs": []
    },
    {
      "cell_type": "markdown",
      "source": [
        "任意に生成した木（関数 sample）の構造と評価値を確認しよう。"
      ],
      "metadata": {
        "id": "3OAjVBbilXTz"
      }
    },
    {
      "cell_type": "code",
      "source": [
        "h = buildhiddenset()\n",
        "# print(h)\n",
        "scorefunction(sample,h)"
      ],
      "metadata": {
        "colab": {
          "base_uri": "https://localhost:8080/"
        },
        "id": "mTEZK20tj9GT",
        "outputId": "247b6948-de6a-4f5c-dcd2-51169386b404"
      },
      "execution_count": null,
      "outputs": [
        {
          "output_type": "execute_result",
          "data": {
            "text/plain": [
              "115520"
            ]
          },
          "metadata": {},
          "execution_count": 20
        }
      ]
    },
    {
      "cell_type": "markdown",
      "source": [
        "では、進化させてその途中の評価と結果を確認しよう。評価が高い、つまり真の値との差が小さいものから順に並べた　scores リストの上位から遺伝子を取り出して操作し、世代交代を行う。うまく収束する場合と、ほとんど変化なく進展する場合がある。"
      ],
      "metadata": {
        "id": "BBqWM2jYoBMH"
      }
    },
    {
      "cell_type": "code",
      "source": [
        "rf = getrankfunction(buildhiddenset())\n",
        "evolve(2,500,rf,mutationrate=0.2,breedingrate=0.1,pexp=0.7,pnew=0.1)"
      ],
      "metadata": {
        "colab": {
          "base_uri": "https://localhost:8080/"
        },
        "id": "1n5zSKteget7",
        "outputId": "9a3251e9-536a-444d-d047-9c1557e03c51"
      },
      "execution_count": null,
      "outputs": [
        {
          "output_type": "stream",
          "name": "stdout",
          "text": [
            "9458\n",
            "6090\n",
            "4664\n",
            "2940\n",
            "200\n",
            "200\n",
            "200\n",
            "199\n",
            "199\n",
            "199\n",
            "199\n",
            "199\n",
            "199\n",
            "199\n",
            "199\n",
            "199\n",
            "199\n",
            "199\n",
            "199\n",
            "199\n",
            "1\n",
            "0\n",
            " add\n",
            "  multiply\n",
            "   0\n",
            "   add\n",
            "    0\n",
            "    3\n",
            "  add\n",
            "   5\n",
            "   add\n",
            "    1\n",
            "    if\n",
            "     1\n",
            "     1\n",
            "     isgreater\n",
            "      1\n",
            "      1\n"
          ]
        },
        {
          "output_type": "execute_result",
          "data": {
            "text/plain": [
              "<__main__.node at 0x7cec0095f040>"
            ]
          },
          "metadata": {},
          "execution_count": 22
        }
      ]
    },
    {
      "cell_type": "markdown",
      "source": [
        "結果の関数の構造は複雑に見えるが、与えられた式と同等の結果を出す関数であることを確かめられたい。以下では、この関数の生成過程に基づいて学習したプログラムによって簡単な2人ゼロ和ゲーム（○×）をプレイする例を示す。"
      ],
      "metadata": {
        "id": "K6a2ilIQY8BC"
      }
    },
    {
      "cell_type": "code",
      "source": [
        "def gridgame(p):\n",
        "  # Board size\n",
        "  max=(3,3)\n",
        "\n",
        "  # Remember the last move for each player\n",
        "  lastmove=[-1,-1]\n",
        "\n",
        "  # Remember the player's locations\n",
        "  location=[[randint(0,max[0]),randint(0,max[1])]]\n",
        "\n",
        "  # Put the second player a sufficient distance from the first\n",
        "  location.append([(location[0][0]+2)%4,(location[0][1]+2)%4])\n",
        "  # Maximum of 50 moves before a tie\n",
        "  for o in range(50):\n",
        "\n",
        "    # For each player\n",
        "    for i in range(2):\n",
        "      locs=location[i][:]+location[1-i][:]\n",
        "      locs.append(lastmove[i])\n",
        "      move=p[i].evaluate(locs)%4\n",
        "\n",
        "      # You lose if you move the same direction twice in a row\n",
        "      if lastmove[i]==move: return 1-i\n",
        "      lastmove[i]=move\n",
        "      if move==0:\n",
        "        location[i][0]-=1\n",
        "        # Board wraps\n",
        "        if location[i][0]<0: location[i][0]=0\n",
        "      if move==1:\n",
        "        location[i][0]+=1\n",
        "        if location[i][0]>max[0]: location[i][0]=max[0]\n",
        "      if move==2:\n",
        "        location[i][1]-=1\n",
        "        if location[i][1]<0: location[i][1]=0\n",
        "      if move==3:\n",
        "        location[i][1]+=1\n",
        "        if location[i][1]>max[1]: location[i][1]=max[1]\n",
        "\n",
        "      # If you have captured the other player, you win\n",
        "      if location[i]==location[1-i]:\n",
        "        #print('player'+str(i)+'win')\n",
        "        return i\n",
        "  return -1"
      ],
      "metadata": {
        "id": "94gwvwGKZKsI"
      },
      "execution_count": null,
      "outputs": []
    },
    {
      "cell_type": "markdown",
      "source": [],
      "metadata": {
        "id": "anxMfFGebvqC"
      }
    },
    {
      "cell_type": "code",
      "source": [
        "def tournament(pl):\n",
        "  # Count losses\n",
        "  losses=[0 for p in pl]\n",
        "\n",
        "  # Every player plays every other player\n",
        "  for i in range(len(pl)):\n",
        "    for j in range(len(pl)):\n",
        "      if i==j: continue\n",
        "\n",
        "      # Who is the winner?\n",
        "      winner=gridgame([pl[i],pl[j]])\n",
        "\n",
        "      # Two points for a loss, one point for a tie\n",
        "      if winner==0:\n",
        "        losses[j]+=2\n",
        "      elif winner==1:\n",
        "        losses[i]+=2\n",
        "      elif winner==-1:\n",
        "        losses[i]+=1\n",
        "        losses[i]+=1\n",
        "  # Sort and return the results\n",
        "  #import pdb; pdb.set_trace()\n",
        "  #z = zip( losses,pl)\n",
        "  #z.sort() # corrected by A.Fujii 2018/07/01\n",
        "  z=sorted( zip(losses,pl), key=lambda x: x[0] )\n",
        "  return z"
      ],
      "metadata": {
        "id": "WTtJZr4Mbv1B"
      },
      "execution_count": null,
      "outputs": []
    },
    {
      "cell_type": "markdown",
      "source": [],
      "metadata": {
        "id": "HM9w--h2bzJJ"
      }
    },
    {
      "cell_type": "code",
      "source": [
        "class humanplayer:\n",
        "  def evaluate(self,board):\n",
        "\n",
        "    # Get my location and the location of other players\n",
        "    me=tuple(board[0:2])\n",
        "    others=[tuple(board[x:x+2]) for x in range(2,len(board)-1,2)]\n",
        "\n",
        "    # Display the board\n",
        "    for i in range(4):\n",
        "      for j in range(4):\n",
        "        if (i,j)==me:\n",
        "          print ('O', end='')\n",
        "        elif (i,j) in others:\n",
        "          print ('X', end='')\n",
        "        else:\n",
        "          print ('.', end='')\n",
        "      print()\n",
        "\n",
        "    # Show moves, for reference\n",
        "    print ('Your last move was %d' % board[len(board)-1])\n",
        "    print (' 0')\n",
        "    print ('2 3')\n",
        "    print (' 1')\n",
        "    print ('Enter move: ',end='')\n",
        "\n",
        "    # Return whatever the user enters\n",
        "    #move=int(raw_input())\n",
        "    move = int(input()) #A.Fujii for 3.4 2018/07/01\n",
        "    return move"
      ],
      "metadata": {
        "id": "hqvcI1i5bzTo"
      },
      "execution_count": null,
      "outputs": []
    },
    {
      "cell_type": "markdown",
      "source": [],
      "metadata": {
        "id": "NMtkKpH-b6wf"
      }
    },
    {
      "cell_type": "code",
      "source": [
        "p1 = makerandomtree(5)\n",
        "p2 = makerandomtree(5)\n",
        "gridgame([p1,p2])"
      ],
      "metadata": {
        "colab": {
          "base_uri": "https://localhost:8080/"
        },
        "id": "4143kjp2b653",
        "outputId": "54139ea3-2b38-4d46-f8cd-25bb34804fd7"
      },
      "execution_count": null,
      "outputs": [
        {
          "output_type": "execute_result",
          "data": {
            "text/plain": [
              "1"
            ]
          },
          "metadata": {},
          "execution_count": 32
        }
      ]
    },
    {
      "cell_type": "markdown",
      "source": [],
      "metadata": {
        "id": "UBS7xiGtd0yo"
      }
    },
    {
      "cell_type": "code",
      "source": [
        "winner = evolve(5,100,tournament,maxgen=50)"
      ],
      "metadata": {
        "colab": {
          "base_uri": "https://localhost:8080/"
        },
        "id": "VS-LmL2cd1RX",
        "outputId": "1dd00ca0-7ace-421f-b1e3-7499b10a7fd2"
      },
      "execution_count": null,
      "outputs": [
        {
          "output_type": "stream",
          "name": "stdout",
          "text": [
            "6\n",
            "60\n",
            "78\n",
            "96\n",
            "88\n",
            "78\n",
            "68\n",
            "70\n",
            "90\n",
            "86\n",
            "78\n",
            "64\n",
            "66\n",
            "84\n",
            "60\n",
            "104\n",
            "68\n",
            "80\n",
            "80\n",
            "78\n",
            "68\n",
            "80\n",
            "78\n",
            "76\n",
            "58\n",
            "84\n",
            "86\n",
            "70\n",
            "84\n",
            "78\n",
            "84\n",
            "94\n",
            "72\n",
            "84\n",
            "88\n",
            "76\n",
            "86\n",
            "80\n",
            "76\n",
            "64\n",
            "56\n",
            "58\n",
            "56\n",
            "40\n",
            "52\n",
            "60\n",
            "62\n",
            "64\n",
            "56\n",
            "52\n",
            " subtract\n",
            "  4\n",
            "  if\n",
            "   multiply\n",
            "    isgreater\n",
            "     subtract\n",
            "      add\n",
            "       2\n",
            "       isgreater\n",
            "        2\n",
            "        0\n",
            "      isgreater\n",
            "       multiply\n",
            "        if\n",
            "         4\n",
            "         3\n",
            "         subtract\n",
            "          4\n",
            "          if\n",
            "           subtract\n",
            "            2\n",
            "            if\n",
            "             3\n",
            "             4\n",
            "             add\n",
            "              9\n",
            "              add\n",
            "               9\n",
            "               multiply\n",
            "                4\n",
            "                1\n",
            "           add\n",
            "            if\n",
            "             add\n",
            "              3\n",
            "              9\n",
            "             1\n",
            "             subtract\n",
            "              0\n",
            "              4\n",
            "            add\n",
            "             if\n",
            "              subtract\n",
            "               2\n",
            "               4\n",
            "              2\n",
            "              4\n",
            "             isgreater\n",
            "              5\n",
            "              7\n",
            "           3\n",
            "        if\n",
            "         isgreater\n",
            "          if\n",
            "           isgreater\n",
            "            5\n",
            "            isgreater\n",
            "             6\n",
            "             multiply\n",
            "              add\n",
            "               multiply\n",
            "                subtract\n",
            "                 6\n",
            "                 0\n",
            "                5\n",
            "               4\n",
            "              subtract\n",
            "               1\n",
            "               multiply\n",
            "                add\n",
            "                 8\n",
            "                 7\n",
            "                multiply\n",
            "                 2\n",
            "                 1\n",
            "           1\n",
            "           multiply\n",
            "            2\n",
            "            subtract\n",
            "             7\n",
            "             5\n",
            "          isgreater\n",
            "           if\n",
            "            if\n",
            "             subtract\n",
            "              0\n",
            "              5\n",
            "             8\n",
            "             4\n",
            "            isgreater\n",
            "             if\n",
            "              2\n",
            "              5\n",
            "              1\n",
            "             6\n",
            "            if\n",
            "             5\n",
            "             multiply\n",
            "              2\n",
            "              1\n",
            "             0\n",
            "           add\n",
            "            4\n",
            "            if\n",
            "             2\n",
            "             subtract\n",
            "              3\n",
            "              3\n",
            "             4\n",
            "         9\n",
            "         subtract\n",
            "          if\n",
            "           add\n",
            "            7\n",
            "            if\n",
            "             0\n",
            "             3\n",
            "             1\n",
            "           4\n",
            "           subtract\n",
            "            2\n",
            "            1\n",
            "          0\n",
            "       0\n",
            "     add\n",
            "      isgreater\n",
            "       isgreater\n",
            "        3\n",
            "        isgreater\n",
            "         multiply\n",
            "          if\n",
            "           4\n",
            "           6\n",
            "           subtract\n",
            "            subtract\n",
            "             3\n",
            "             1\n",
            "            0\n",
            "          3\n",
            "         if\n",
            "          3\n",
            "          6\n",
            "          9\n",
            "       add\n",
            "        7\n",
            "        subtract\n",
            "         0\n",
            "         if\n",
            "          multiply\n",
            "           4\n",
            "           3\n",
            "          2\n",
            "          7\n",
            "      10\n",
            "    multiply\n",
            "     subtract\n",
            "      add\n",
            "       if\n",
            "        0\n",
            "        8\n",
            "        2\n",
            "       8\n",
            "      0\n",
            "     add\n",
            "      multiply\n",
            "       multiply\n",
            "        0\n",
            "        3\n",
            "       isgreater\n",
            "        multiply\n",
            "         1\n",
            "         1\n",
            "        1\n",
            "      1\n",
            "   4\n",
            "   if\n",
            "    multiply\n",
            "     add\n",
            "      isgreater\n",
            "       if\n",
            "        5\n",
            "        10\n",
            "        isgreater\n",
            "         1\n",
            "         2\n",
            "       3\n",
            "      2\n",
            "     4\n",
            "    5\n",
            "    2\n"
          ]
        }
      ]
    },
    {
      "cell_type": "markdown",
      "source": [
        "学習済みのコンピュータ指しては、X側である。学習済み関数は、O側から逃れるの様に学習したとみなす。（入力数値に対する動作を出力する）\n",
        "ルールとしては、「同じ動きを連続して行うと負け(0)」「相手を壁に追い詰めて補足すると勝ち(1)」である。動ける場所は、4×4の16マスである。"
      ],
      "metadata": {
        "id": "h2LrIm69eW8E"
      }
    },
    {
      "cell_type": "code",
      "source": [
        "gridgame([winner,humanplayer( )])"
      ],
      "metadata": {
        "colab": {
          "base_uri": "https://localhost:8080/"
        },
        "id": "vz3M0HrleXK7",
        "outputId": "500b0095-5705-4abc-c6a0-b4793f5c4c89"
      },
      "execution_count": null,
      "outputs": [
        {
          "name": "stdout",
          "output_type": "stream",
          "text": [
            "....\n",
            "O...\n",
            "....\n",
            "..X.\n",
            "Your last move was -1\n",
            " 0\n",
            "2 3\n",
            " 1\n",
            "Enter move: 1\n",
            "....\n",
            "....\n",
            "O.X.\n",
            "....\n",
            "Your last move was 1\n",
            " 0\n",
            "2 3\n",
            " 1\n",
            "Enter move: 3\n"
          ]
        },
        {
          "output_type": "execute_result",
          "data": {
            "text/plain": [
              "0"
            ]
          },
          "metadata": {},
          "execution_count": 36
        }
      ]
    }
  ]
}